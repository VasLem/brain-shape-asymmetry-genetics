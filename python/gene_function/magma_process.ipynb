{
 "cells": [
  {
   "cell_type": "code",
   "execution_count": 8,
   "metadata": {},
   "outputs": [],
   "source": [
    "import matplotlib\n",
    "matplotlib.use(\"pgf\")\n",
    "matplotlib.rcParams.update({\n",
    "    \"pgf.texsystem\": \"pdflatex\",\n",
    "    'font.family': 'serif',\n",
    "    'font.serif': 'lm',\n",
    "    'font.size': '11',\n",
    "    'text.usetex': True,\n",
    "    'pgf.rcfonts': False,\n",
    "})\n",
    "import pandas as pd\n",
    "MODALITY = 'asymmetry'\n",
    "IMPUTE_ID = 'mean_imputed'\n",
    "SUBSAMPLED_ID = 'not_subsampled'\n",
    "PARTITIONS_DIR = f\"../../results/{MODALITY}/visualizeCCAOnPheno/joinedDatasets/{IMPUTE_ID}/{SUBSAMPLED_ID}/props\"\n",
    "RESULTS_DIR = f\"../../results/{MODALITY}/FUMA/joinedDatasets/{IMPUTE_ID}/{SUBSAMPLED_ID}\""
   ]
  },
  {
   "cell_type": "code",
   "execution_count": 9,
   "metadata": {},
   "outputs": [],
   "source": [
    "import numpy as np\n",
    "def load_df(name):\n",
    "    df = None\n",
    "    for par in [1,4,5,6,7]:\n",
    "        tab = pd.read_csv(f\"{RESULTS_DIR}/par{par:02d}/magma_exp_bs_{name}_avg_log2RPKM.gsa.out\",delim_whitespace=True, comment=\"#\")\n",
    "        tab['partition'] = par\n",
    "        tab['log10p'] = -np.log10(tab['P'])\n",
    "        if df is None:\n",
    "            df = tab\n",
    "        else:\n",
    "            df = pd.concat([df, tab])\n",
    "    return df\n",
    "age_df = load_df(\"age\")\n",
    "dev_df = load_df(\"dev\")"
   ]
  },
  {
   "cell_type": "code",
   "execution_count": 10,
   "metadata": {},
   "outputs": [
    {
     "data": {
      "text/plain": [
       "(145, 9)"
      ]
     },
     "execution_count": 10,
     "metadata": {},
     "output_type": "execute_result"
    }
   ],
   "source": [
    "age_df.shape"
   ]
  },
  {
   "cell_type": "code",
   "execution_count": 11,
   "metadata": {},
   "outputs": [
    {
     "data": {
      "text/html": [
       "<div>\n",
       "<style scoped>\n",
       "    .dataframe tbody tr th:only-of-type {\n",
       "        vertical-align: middle;\n",
       "    }\n",
       "\n",
       "    .dataframe tbody tr th {\n",
       "        vertical-align: top;\n",
       "    }\n",
       "\n",
       "    .dataframe thead th {\n",
       "        text-align: right;\n",
       "    }\n",
       "</style>\n",
       "<table border=\"1\" class=\"dataframe\">\n",
       "  <thead>\n",
       "    <tr style=\"text-align: right;\">\n",
       "      <th></th>\n",
       "      <th>VARIABLE</th>\n",
       "      <th>TYPE</th>\n",
       "      <th>NGENES</th>\n",
       "      <th>BETA</th>\n",
       "      <th>BETA_STD</th>\n",
       "      <th>SE</th>\n",
       "      <th>P</th>\n",
       "      <th>partition</th>\n",
       "      <th>log10p</th>\n",
       "    </tr>\n",
       "  </thead>\n",
       "  <tbody>\n",
       "    <tr>\n",
       "      <th>0</th>\n",
       "      <td>Early_prenatal</td>\n",
       "      <td>COVAR</td>\n",
       "      <td>13428</td>\n",
       "      <td>0.010693</td>\n",
       "      <td>0.016091</td>\n",
       "      <td>0.009937</td>\n",
       "      <td>0.140960</td>\n",
       "      <td>1</td>\n",
       "      <td>0.850904</td>\n",
       "    </tr>\n",
       "    <tr>\n",
       "      <th>1</th>\n",
       "      <td>Early_mid-prenatal</td>\n",
       "      <td>COVAR</td>\n",
       "      <td>13428</td>\n",
       "      <td>0.017013</td>\n",
       "      <td>0.025529</td>\n",
       "      <td>0.011329</td>\n",
       "      <td>0.066589</td>\n",
       "      <td>1</td>\n",
       "      <td>1.176598</td>\n",
       "    </tr>\n",
       "    <tr>\n",
       "      <th>2</th>\n",
       "      <td>Late_mid-prenatal</td>\n",
       "      <td>COVAR</td>\n",
       "      <td>13428</td>\n",
       "      <td>0.015660</td>\n",
       "      <td>0.023187</td>\n",
       "      <td>0.013909</td>\n",
       "      <td>0.130120</td>\n",
       "      <td>1</td>\n",
       "      <td>0.885656</td>\n",
       "    </tr>\n",
       "    <tr>\n",
       "      <th>3</th>\n",
       "      <td>Late_prenatal</td>\n",
       "      <td>COVAR</td>\n",
       "      <td>13428</td>\n",
       "      <td>0.020490</td>\n",
       "      <td>0.028119</td>\n",
       "      <td>0.016073</td>\n",
       "      <td>0.101200</td>\n",
       "      <td>1</td>\n",
       "      <td>0.994819</td>\n",
       "    </tr>\n",
       "    <tr>\n",
       "      <th>4</th>\n",
       "      <td>Early_infancy</td>\n",
       "      <td>COVAR</td>\n",
       "      <td>13428</td>\n",
       "      <td>-0.031833</td>\n",
       "      <td>-0.045051</td>\n",
       "      <td>0.028026</td>\n",
       "      <td>0.871970</td>\n",
       "      <td>1</td>\n",
       "      <td>0.059498</td>\n",
       "    </tr>\n",
       "  </tbody>\n",
       "</table>\n",
       "</div>"
      ],
      "text/plain": [
       "             VARIABLE   TYPE  NGENES      BETA  BETA_STD        SE         P  \\\n",
       "0      Early_prenatal  COVAR   13428  0.010693  0.016091  0.009937  0.140960   \n",
       "1  Early_mid-prenatal  COVAR   13428  0.017013  0.025529  0.011329  0.066589   \n",
       "2   Late_mid-prenatal  COVAR   13428  0.015660  0.023187  0.013909  0.130120   \n",
       "3       Late_prenatal  COVAR   13428  0.020490  0.028119  0.016073  0.101200   \n",
       "4       Early_infancy  COVAR   13428 -0.031833 -0.045051  0.028026  0.871970   \n",
       "\n",
       "   partition    log10p  \n",
       "0          1  0.850904  \n",
       "1          1  1.176598  \n",
       "2          1  0.885656  \n",
       "3          1  0.994819  \n",
       "4          1  0.059498  "
      ]
     },
     "execution_count": 11,
     "metadata": {},
     "output_type": "execute_result"
    }
   ],
   "source": [
    "dev_df.head()"
   ]
  },
  {
   "cell_type": "code",
   "execution_count": 12,
   "metadata": {},
   "outputs": [],
   "source": [
    "age_labs = age_df.VARIABLE.unique().tolist()\n",
    "dev_labs = dev_df.VARIABLE.unique().tolist()"
   ]
  },
  {
   "cell_type": "code",
   "execution_count": 15,
   "metadata": {},
   "outputs": [],
   "source": [
    "import matplotlib.pyplot as plt\n",
    "from PIL import Image\n",
    "from matplotlib.gridspec import GridSpec,GridSpecFromSubplotSpec\n",
    "def create_development_figure(df):\n",
    "    labs = df['VARIABLE'].unique()\n",
    "    df = df.pivot('VARIABLE','partition','log10p').loc[labs]\n",
    "    fig = plt.figure(figsize=(40, 8))\n",
    "    spec = GridSpec(2, len(df.columns), hspace=0, wspace=0.08)\n",
    "    ymax = np.max(df.max())\n",
    "    for i,col in enumerate(df.columns):\n",
    "        ax0 = fig.add_subplot(spec[0,i], xticks=[], yticks=[])\n",
    "        ax0.set_title(f'Partition {col}')\n",
    "        with Image.open(PARTITIONS_DIR + '/' + str(col) + '.png') as im:\n",
    "            ax0.imshow(im)\n",
    "            ax0.axis('off')\n",
    "        if i == 0:\n",
    "            ax1 = fig.add_subplot(spec[1,i])\n",
    "        else:\n",
    "            ax1 = fig.add_subplot(spec[1,i], yticks=[])\n",
    "        xaxis = np.arange(len(df.index))\n",
    "        cutoff = -np.log10(0.05/len(df))\n",
    "        m = df[col] >= cutoff\n",
    "        bar0 = ax1.bar(xaxis[~m],df[~m][col], color='blue')\n",
    "        bar1 = ax1.bar(xaxis[m],df[m][col], color='red')\n",
    "        bars = [b for b in bar0] + [b for b in bar1]\n",
    "        x_min = np.array([plt.getp(item, 'x') for item in bars])\n",
    "        x_max = x_min + [plt.getp(item, 'width') for item in bars]\n",
    "        ax1.set_xticks(xaxis)\n",
    "        ax1.set_xticklabels(df.index, rotation = 90)\n",
    "\n",
    "        ax1.hlines(cutoff,min(x_min), max(x_max),linestyles='dotted')\n",
    "        ax1.set_ylim([0, 1.1* max(ymax, cutoff)])\n",
    "        if i==0:\n",
    "            ax1.set_ylabel('-log10p')\n",
    "    return fig"
   ]
  },
  {
   "cell_type": "code",
   "execution_count": 16,
   "metadata": {},
   "outputs": [],
   "source": [
    "age_fig = create_development_figure(age_df)\n",
    "dev_fig = create_development_figure(dev_df)"
   ]
  },
  {
   "cell_type": "code",
   "execution_count": 17,
   "metadata": {},
   "outputs": [],
   "source": [
    "import os\n",
    "OUTPUT_DIR = RESULTS_DIR+'/partitionsSummary/'\n",
    "os.makedirs(OUTPUT_DIR,exist_ok=True)\n",
    "\n",
    "age_fig.savefig(OUTPUT_DIR + 'age.pdf', bbox_inches=\"tight\")\n",
    "dev_fig.savefig(OUTPUT_DIR + 'dev.pdf', bbox_inches=\"tight\")"
   ]
  }
 ],
 "metadata": {
  "interpreter": {
   "hash": "640b6607c378eec1014adcbea929a18ca537c12de5fa14b257767526316958f9"
  },
  "kernelspec": {
   "display_name": "Python 3.6.8 ('imagen')",
   "language": "python",
   "name": "python3"
  },
  "language_info": {
   "codemirror_mode": {
    "name": "ipython",
    "version": 3
   },
   "file_extension": ".py",
   "mimetype": "text/x-python",
   "name": "python",
   "nbconvert_exporter": "python",
   "pygments_lexer": "ipython3",
   "version": "3.9.12"
  },
  "orig_nbformat": 4
 },
 "nbformat": 4,
 "nbformat_minor": 2
}
